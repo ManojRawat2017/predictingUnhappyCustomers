{
 "cells": [
  {
   "cell_type": "code",
   "execution_count": 1,
   "metadata": {},
   "outputs": [],
   "source": [
    "import math\n",
    "import numpy as np\n",
    "import pandas as pd\n",
    "from sklearn.metrics import classification_report\n",
    "from sklearn.model_selection import cross_val_score\n",
    "from sklearn.model_selection import KFold\n",
    "from sklearn.model_selection import train_test_split\n",
    "from sklearn.preprocessing import LabelEncoder\n",
    "from sklearn.pipeline import Pipeline\n",
    "from sklearn import preprocessing\n",
    "seed = 7\n",
    "np.random.seed(seed)"
   ]
  },
  {
   "cell_type": "markdown",
   "metadata": {},
   "source": [
    "# Model Prep\n",
    "## Data Cleaning"
   ]
  },
  {
   "cell_type": "code",
   "execution_count": 2,
   "metadata": {},
   "outputs": [],
   "source": [
    "#since the Pyscope is not working, data in COSMOS was dumped as text file, which is imported as below. Labeled data was extracted from SQL and those tenantIDs were appended with metadata in COSMOS and expoted as tect file\n",
    "Col=['TenantId2','Det','TenantId','Name','Country','CountryCode','Region','City','CommunicationLanguage','CommunicationCulture',\n",
    "     'CreatedDate','CreateDateOfFirstSubscription','PurchaseDateOfFirstNonTrialSubscription','TenantState','TenantType',\n",
    "     'EXOEnabledUsers','LicensedUsers','LYOEnabledUsers','SPOEnabledUsers','OD4BEnabledUsers','ProPlusEnabledUsers','TotalUsers',\n",
    "     'EDUSubscriptionsCount','ExchangeSubscriptionsCount','LyncSubscriptionsCount','PaidSubscriptionCount',\n",
    "     'ProjectSubscriptionsCount','SharePointSubscriptionsCount','TotalSubscriptionCount','TrialSubscriptionCount',\n",
    "     'VisioSubscriptionsCount','HasEducation','HasCharity','HasGovernment','HasExchange','HasLync','HasSharePoint','HasProPlus',\n",
    "     'HasYammer','HasSubscription','HasProject','HasPaid','HasVisio','HasTrial','DomainCount','CommerceTenantTagsArray',\n",
    "     'CommerceTenantTagsCount','AssignedPlanServiceTypeArray','AssignedPlanCount','PartnerTenantCount','SubscriptionCount',\n",
    "     'ConciergeInfoIsConceirge','IsConcierge','ConciergeInfoIsManualAdmittance','ConciergeInfoProgramId',\n",
    "     'CompanyLastDirSyncTime','DirectoryExtensionsSyncEnabled','DirSyncEnabled','PasswordSyncEnabled','PasswordSyncTime',\n",
    "     'PasswordWriteBackEnabled','IsDonMT','IsViral','IsTest','IsQuickStart','IsFastTrackTenant','HasSKUE3','HasSKUE5',\n",
    "     'SPOEnvironment','IsRestrictRmsViralSignUp','IsMSODSDeleted','TotalGroupCount','CurrentDefaultDomain',\n",
    "     'O365TenantReleaseTrack','DefaultDataLocation','SnapshotTime','MSODSTenant_CompanyTags','MSODSTenant_ExtensionAttributes',\n",
    "     'MSODSTenant_DirSyncEnabled','CPTenant_ChannelName','FirstTicketAge','FirstTicketDate','LastTicketDate',\n",
    "     'TotalTickets','MinCloseTime','MaxCloseTime','MedCloseTime','SubscriptionEndDate','DaysToSubEndDate','SubscriptionStartDate',\n",
    "     'DaysTicketOpenAfterSubStart','TicketsFeedRecency','NumberOfTickets_Past7Days','NumberOfTickets_Past28Days',\n",
    "     'NumberOfTickets_Past90Days','NumberOfTickets_Past180Days','NumberOfTickets_Past360Days','Age_at_First_Ticket_Bucket',\n",
    "     'PercentOfTickets','TotalTickets1Year','Percent_Of_Tickets_Bucket','Exchange_unable_to_connect_sync_with_exchange',\n",
    "     'SharePoint_manage_sites_documents_and_lists','Admin_Get_reports_insights_and_usage_patterns_for_my_Office_365_tenant',\n",
    "     'Office_Client_Use_Office_apps_including_Mac','Admin_Find_and_signup_for_the_correct_Office_365_plan',\n",
    "     'Dynamics_CRM_Setup_and_use_Dynamics_CRM_and_Parature_services','Intune_Download_Setup_and_Use_Intune',\n",
    "     'OneDrive_Setup_OneDrive_and_sync_my_documents','Admin_Sign_in_and_password_issues',\n",
    "     'Mobile_Connect_and_configure_mobile_devices','Setup_and_use_Stream','Exchange_Use_calendar_free_busy_and_contacts',\n",
    "     'Install_setup_and_use_Power_Bi','Commerce_Manage_bills_payments_subscriptions_and_licenses',\n",
    "     'Exchange_Migrate_my_data_to_Office_365','Office_Client_Download_install_and_activate_Office_apps_including_Mac',\n",
    "     'Other','Setup_and_use_OneNote','Exchange_Setup_and_manage_mailbox_exchange_online','Setup_and_use_PowerPoint',\n",
    "     'Exchange_Enable_hybrid_capabilities','Setup_compliance_features_like_Archive_Retention_Litigation_eDiscovery_and_MDM',\n",
    "     'Admin_Setup_domain_and_DNS_settings_for_Office_365','Exchange_Use_OWA_Outlook_Web_App',\n",
    "     'Outlook_Setup_and_use_Outlook_including_Mac','Office_Client_Word','Yammer_Setup_and_use_Yammer_services',\n",
    "     'Office_Client_Excel','Prevent_user_accounts_from_getting_compromised','Send_and_receive_mail_on_time',\n",
    "     'Admin_Global_Office_365_setup_and_administration_DirSync_ADFS_Global_Exchange_settings',\n",
    "     'Admin_Manage_my_users_groups_and_resources','Setup_and_use_Project','Skype_Setup_and_use_Skype_services',\n",
    "     'Keep_mailboxes_free_of_spam_and_viruses','Project_and_Planner_manage_projects_and_plans','Setup_and_use_Delve_Analytics',\n",
    "     'Teams_Download_Setup_and_Use_Microsoft_Teams',\t'L7TotalUsage',\t'L14TotalUsage',\t'L28TotalUsage',\t'ProjectL7Usage',\t'PublisherL7Usage',\t'OutlookL7Usage',\t'WordL7Usage',\t'VisioL7Usage',\t'OneNoteL7Usage',\t'ExcelL7Usage',\t'AccessL7Usage',\t'LyncL7Usage',\t'PowerPointL7Usage',\t'ProjectL14Usage',\t'PublisherL14Usage',\t'OutlookL14Usage',\t'WordL14Usage',\t'VisioL14Usage',\t'OneNoteL14Usage',\t'ExcelL14Usage',\t'AccessL14Usage',\t'LyncL14Usage',\t'PowerPointL14Usage',\t'ProjectL28Usage',\t'PublisherL28Usage',\t'OutlookL28Usage',\t'WordL28Usage',\t'VisioL28Usage',\t'OneNoteL28Usage',\t'ExcelL28Usage',\t'AccessL28Usage',\t'LyncL28Usage',\t'PowerPointL28Usage',\t'ProjectL7Usage_Percent',\t'PublisherL7Usage_Percent',\t'OutlookL7Usage_Percent',\t'WordL7Usage_Percent',\t'VisioL7Usage_Percent',\t'OneNoteL7Usage_Percent',\t'ExcelL7Usage_Percent',\t'AccessL7Usage_Percent',\t'LyncL7Usage_Percent',\t'PowerPointL7Usage_Percent',\t'ProjectL14Usage_Percent',\t'PublisherL14Usage_Percent',\t'OutlookL14Usage_Percent',\t'WordL14Usage_Percent',\t'VisioL14Usage_Percent',\t'OneNoteL14Usage_Percent',\t'ExcelL14Usage_Percent',\t'AccessL14Usage_Percent',\t'LyncL14Usage_Percent',\t'PowerPointL14Usage_Percent',\t'ProjectL28Usage_Percent',\t'PublisherL28Usage_Percent',\t'OutlookL28Usage_Percent',\t'WordL28Usage_Percent',\t'VisioL28Usage_Percent',\t'OneNoteL28Usage_Percent',\t'ExcelL28Usage_Percent',\t'AccessL28Usage_Percent',\t'LyncL28Usage_Percent',\t'PowerPointL28Usage_Percent',\t'ProjectL7Usage_Percent_Desc',\t'PublisherL7Usage_Percent_Desc',\t'OutlookL7Usage_Percent_Desc',\t'WordL7Usage_Percent_Desc',\t'VisioL7Usage_Percent_Desc',\t'OneNoteL7Usage_Percent_Desc',\t'ExcelL7Usage_Percent_Desc',\t'AccessL7Usage_Percent_Desc',\t'LyncL7Usage_Percent_Desc',\t'PowerPointL7Usage_Percent_Desc',\t'ProjectL14Usage_Percent_Desc',\t'PublisherL14Usage_Percent_Desc',\t'OutlookL14Usage_Percent_Desc',\t'WordL14Usage_Percent_Desc',\t'VisioL14Usage_Percent_Desc',\t'OneNoteL14Usage_Percent_Desc',\t'ExcelL14Usage_Percent_Desc',\t'AccessL14Usage_Percent_Desc',\t'LyncL14Usage_Percent_Desc',\t'PowerPointL14Usage_Percent_Desc',\t'ProjectL28Usage_Percent_Desc',\t'PublisherL28Usage_Percent_Desc',\t'OutlookL28Usage_Percent_Desc',\t'WordL28Usage_Percent_Desc',\t'VisioL28Usage_Percent_Desc',\t'OneNoteL28Usage_Percent_Desc',\t'ExcelL28Usage_Percent_Desc',\t'AccessL28Usage_Percent_Desc',\t'LyncL28Usage_Percent_Desc',\t'PowerPointL28Usage_Percent_Desc',\t'Win10L7Usage',\t'WinOtherL7Usage',\t'MacL7Usage',\t'iOSL7Usage',\t'IPhoneL7Usage',\t'AndroidL7Usage',\t'Win10L14Usage',\t'WinOtherL14Usage',\t'MacL14Usage',\t'iOSL14Usage',\t'IPhoneL14Usage',\t'AndroidL14Usage',\t'Win10L28Usage',\t'WinOtherL28Usage',\t'MacL28Usage',\t'iOSL28Usage',\t'IPhoneL28Usage',\t'AndroidL28Usage',\t'Win10L7Usage_Percent',\t'WinOtherL7Usage_Percent',\t'MacL7Usage_Percent',\t'iOSL7Usage_Percent',\t'IPhoneL7Usage_Percent',\t'AndroidL7Usage_Percent',\t'Win10L14Usage_Percent',\t'WinOtherL14Usage_Percent',\t'MacL14Usage_Percent',\t'iOSL14Usage_Percent',\t'IPhoneL14Usage_Percent',\t'AndroidL14Usage_Percent',\t'Win10L28Usage_Percent',\t'WinOtherL28Usage_Percent',\t'MacL28Usage_Percent',\t'iOSL28Usage_Percent',\t'IPhoneL28Usage_Percent',\t'AndroidL28Usage_Percent',\t'Win10L7Usage_Percent_Desc',\t'WinOtherL7Usage_Percent_Desc',\t'MacL7Usage_Percent_Desc',\t'iOSL7Usage_Percent_Desc',\t'IPhoneL7Usage_Percent_Desc',\t'AndroidL7Usage_Percent_Desc',\t'Win10L14Usage_Percent_Desc',\t'WinOtherL14Usage_Percent_Desc',\t'MacL14Usage_Percent_Desc',\t'iOSL14Usage_Percent_Desc',\t'IPhoneL14Usage_Percent_Desc',\t'AndroidL14Usage_Percent_Desc',\t'Win10L28Usage_Percent_Desc',\t'WinOtherL28Usage_Percent_Desc',\t'MacL28Usage_Percent_Desc',\t'iOSL28Usage_Percent_Desc',\t'IPhoneL28Usage_Percent_Desc',\t'AndroidL28Usage_Percent_Desc',\t'LatestFeedbackDateTime',\t'TotalFeedbacks',\t'LatestSATScore',\t'LatestSATType',\t'CompositeSATScore',\t'CompositeSATType',\n",
    "]"
   ]
  },
  {
   "cell_type": "code",
   "execution_count": 3,
   "metadata": {},
   "outputs": [
    {
     "name": "stderr",
     "output_type": "stream",
     "text": [
      "C:\\Users\\v-Jaand\\AppData\\Local\\Continuum\\anaconda3\\lib\\site-packages\\IPython\\core\\interactiveshell.py:2785: DtypeWarning: Columns (74) have mixed types. Specify dtype option on import or set low_memory=False.\n",
      "  interactivity=interactivity, compiler=compiler, result=result)\n"
     ]
    }
   ],
   "source": [
    "data = pd.read_csv(\"AppendLabel.txt\" ,sep='\\t',  lineterminator='\\n', names=Col)\n",
    "#data = pd.read_csv(\"C:/Users/mrawat/Documents/OneDrive - Microsoft/O365/MLmodel/AppendLabel.txt\" ,sep='\\t',  lineterminator='\\n', names=Col, index_col=False)"
   ]
  },
  {
   "cell_type": "code",
   "execution_count": 4,
   "metadata": {},
   "outputs": [
    {
     "data": {
      "text/html": [
       "<div>\n",
       "<style scoped>\n",
       "    .dataframe tbody tr th:only-of-type {\n",
       "        vertical-align: middle;\n",
       "    }\n",
       "\n",
       "    .dataframe tbody tr th {\n",
       "        vertical-align: top;\n",
       "    }\n",
       "\n",
       "    .dataframe thead th {\n",
       "        text-align: right;\n",
       "    }\n",
       "</style>\n",
       "<table border=\"1\" class=\"dataframe\">\n",
       "  <thead>\n",
       "    <tr style=\"text-align: right;\">\n",
       "      <th></th>\n",
       "      <th>TenantId2</th>\n",
       "      <th>Det</th>\n",
       "      <th>TenantId</th>\n",
       "      <th>Name</th>\n",
       "      <th>Country</th>\n",
       "      <th>CountryCode</th>\n",
       "      <th>Region</th>\n",
       "      <th>City</th>\n",
       "      <th>CommunicationLanguage</th>\n",
       "      <th>CommunicationCulture</th>\n",
       "      <th>...</th>\n",
       "      <th>MacL28Usage_Percent_Desc</th>\n",
       "      <th>iOSL28Usage_Percent_Desc</th>\n",
       "      <th>IPhoneL28Usage_Percent_Desc</th>\n",
       "      <th>AndroidL28Usage_Percent_Desc</th>\n",
       "      <th>LatestFeedbackDateTime</th>\n",
       "      <th>TotalFeedbacks</th>\n",
       "      <th>LatestSATScore</th>\n",
       "      <th>LatestSATType</th>\n",
       "      <th>CompositeSATScore</th>\n",
       "      <th>CompositeSATType</th>\n",
       "    </tr>\n",
       "  </thead>\n",
       "  <tbody>\n",
       "    <tr>\n",
       "      <th>0</th>\n",
       "      <td>000032cf-080d-4d56-a74b-ddb2895c0e20</td>\n",
       "      <td>0.0</td>\n",
       "      <td>000032cf-080d-4d56-a74b-ddb2895c0e20</td>\n",
       "      <td>ZEROS GMBH</td>\n",
       "      <td>Germany</td>\n",
       "      <td>DE</td>\n",
       "      <td>Germany</td>\n",
       "      <td>BERLIN</td>\n",
       "      <td>EN</td>\n",
       "      <td>EN-US</td>\n",
       "      <td>...</td>\n",
       "      <td>NOT_USED</td>\n",
       "      <td>NOT_USED</td>\n",
       "      <td>NOT_USED</td>\n",
       "      <td>Less_than_25Pct</td>\n",
       "      <td>9/18/2017 5:46:51 AM</td>\n",
       "      <td>1.0</td>\n",
       "      <td>0.0</td>\n",
       "      <td>Detractor</td>\n",
       "      <td>0.0</td>\n",
       "      <td>Detractor\\r</td>\n",
       "    </tr>\n",
       "    <tr>\n",
       "      <th>1</th>\n",
       "      <td>000095a5-95c0-4e5f-9941-9277c3c91f6e</td>\n",
       "      <td>1.0</td>\n",
       "      <td>000095a5-95c0-4e5f-9941-9277c3c91f6e</td>\n",
       "      <td>TITA FASHION GMBH</td>\n",
       "      <td>Germany</td>\n",
       "      <td>DE</td>\n",
       "      <td>Germany</td>\n",
       "      <td>MÜNCHEN</td>\n",
       "      <td>en</td>\n",
       "      <td>EN-US</td>\n",
       "      <td>...</td>\n",
       "      <td>75Pct_or_more</td>\n",
       "      <td>NOT_USED</td>\n",
       "      <td>NOT_USED</td>\n",
       "      <td>NOT_USED</td>\n",
       "      <td>NaN</td>\n",
       "      <td>NaN</td>\n",
       "      <td>NaN</td>\n",
       "      <td>NaN</td>\n",
       "      <td>NaN</td>\n",
       "      <td>\\r</td>\n",
       "    </tr>\n",
       "    <tr>\n",
       "      <th>2</th>\n",
       "      <td>0000d141-461b-4672-b95d-e20dedc07011</td>\n",
       "      <td>0.0</td>\n",
       "      <td>0000d141-461b-4672-b95d-e20dedc07011</td>\n",
       "      <td>CONCESIÓN LA PINTADA SAS</td>\n",
       "      <td>Colombia</td>\n",
       "      <td>CO</td>\n",
       "      <td>Latam</td>\n",
       "      <td>MEDELLIN</td>\n",
       "      <td>es</td>\n",
       "      <td>ES-CO</td>\n",
       "      <td>...</td>\n",
       "      <td>Less_than_25Pct</td>\n",
       "      <td>NOT_USED</td>\n",
       "      <td>NOT_USED</td>\n",
       "      <td>Less_than_25Pct</td>\n",
       "      <td>1/15/2018 5:20:09 AM</td>\n",
       "      <td>1.0</td>\n",
       "      <td>200.0</td>\n",
       "      <td>Promotor</td>\n",
       "      <td>200.0</td>\n",
       "      <td>Promotor\\r</td>\n",
       "    </tr>\n",
       "    <tr>\n",
       "      <th>3</th>\n",
       "      <td>0000d17f-c8ed-4ec8-b6a3-dbbe3eaef433</td>\n",
       "      <td>0.0</td>\n",
       "      <td>0000d17f-c8ed-4ec8-b6a3-dbbe3eaef433</td>\n",
       "      <td>JAN VALENTIK</td>\n",
       "      <td>Czech Republic</td>\n",
       "      <td>CZ</td>\n",
       "      <td>Central and Eastern Europe</td>\n",
       "      <td>PISEK</td>\n",
       "      <td>cs</td>\n",
       "      <td>CS-CZ</td>\n",
       "      <td>...</td>\n",
       "      <td>NaN</td>\n",
       "      <td>NaN</td>\n",
       "      <td>NaN</td>\n",
       "      <td>NaN</td>\n",
       "      <td>NaN</td>\n",
       "      <td>NaN</td>\n",
       "      <td>NaN</td>\n",
       "      <td>NaN</td>\n",
       "      <td>NaN</td>\n",
       "      <td>\\r</td>\n",
       "    </tr>\n",
       "    <tr>\n",
       "      <th>4</th>\n",
       "      <td>0000e9ea-9ee3-4793-9563-177e444fb497</td>\n",
       "      <td>0.0</td>\n",
       "      <td>0000e9ea-9ee3-4793-9563-177e444fb497</td>\n",
       "      <td>CHARTERED INSTITUTE OF HOUSING</td>\n",
       "      <td>United Kingdom</td>\n",
       "      <td>GB</td>\n",
       "      <td>UK</td>\n",
       "      <td>COVENTRY</td>\n",
       "      <td>en</td>\n",
       "      <td>EN-GB</td>\n",
       "      <td>...</td>\n",
       "      <td>NOT_USED</td>\n",
       "      <td>NOT_USED</td>\n",
       "      <td>NOT_USED</td>\n",
       "      <td>NOT_USED</td>\n",
       "      <td>NaN</td>\n",
       "      <td>NaN</td>\n",
       "      <td>NaN</td>\n",
       "      <td>NaN</td>\n",
       "      <td>NaN</td>\n",
       "      <td>\\r</td>\n",
       "    </tr>\n",
       "  </tbody>\n",
       "</table>\n",
       "<p>5 rows × 292 columns</p>\n",
       "</div>"
      ],
      "text/plain": [
       "                              TenantId2  Det  \\\n",
       "0  000032cf-080d-4d56-a74b-ddb2895c0e20  0.0   \n",
       "1  000095a5-95c0-4e5f-9941-9277c3c91f6e  1.0   \n",
       "2  0000d141-461b-4672-b95d-e20dedc07011  0.0   \n",
       "3  0000d17f-c8ed-4ec8-b6a3-dbbe3eaef433  0.0   \n",
       "4  0000e9ea-9ee3-4793-9563-177e444fb497  0.0   \n",
       "\n",
       "                               TenantId                            Name  \\\n",
       "0  000032cf-080d-4d56-a74b-ddb2895c0e20                      ZEROS GMBH   \n",
       "1  000095a5-95c0-4e5f-9941-9277c3c91f6e               TITA FASHION GMBH   \n",
       "2  0000d141-461b-4672-b95d-e20dedc07011        CONCESIÓN LA PINTADA SAS   \n",
       "3  0000d17f-c8ed-4ec8-b6a3-dbbe3eaef433                    JAN VALENTIK   \n",
       "4  0000e9ea-9ee3-4793-9563-177e444fb497  CHARTERED INSTITUTE OF HOUSING   \n",
       "\n",
       "          Country CountryCode                      Region      City  \\\n",
       "0         Germany          DE                     Germany    BERLIN   \n",
       "1         Germany          DE                     Germany   MÜNCHEN   \n",
       "2        Colombia          CO                       Latam  MEDELLIN   \n",
       "3  Czech Republic          CZ  Central and Eastern Europe     PISEK   \n",
       "4  United Kingdom          GB                          UK  COVENTRY   \n",
       "\n",
       "  CommunicationLanguage CommunicationCulture        ...         \\\n",
       "0                    EN                EN-US        ...          \n",
       "1                    en                EN-US        ...          \n",
       "2                    es                ES-CO        ...          \n",
       "3                    cs                CS-CZ        ...          \n",
       "4                    en                EN-GB        ...          \n",
       "\n",
       "  MacL28Usage_Percent_Desc iOSL28Usage_Percent_Desc  \\\n",
       "0                 NOT_USED                 NOT_USED   \n",
       "1            75Pct_or_more                 NOT_USED   \n",
       "2          Less_than_25Pct                 NOT_USED   \n",
       "3                      NaN                      NaN   \n",
       "4                 NOT_USED                 NOT_USED   \n",
       "\n",
       "  IPhoneL28Usage_Percent_Desc AndroidL28Usage_Percent_Desc  \\\n",
       "0                    NOT_USED              Less_than_25Pct   \n",
       "1                    NOT_USED                     NOT_USED   \n",
       "2                    NOT_USED              Less_than_25Pct   \n",
       "3                         NaN                          NaN   \n",
       "4                    NOT_USED                     NOT_USED   \n",
       "\n",
       "  LatestFeedbackDateTime  TotalFeedbacks  LatestSATScore  LatestSATType  \\\n",
       "0   9/18/2017 5:46:51 AM             1.0             0.0      Detractor   \n",
       "1                    NaN             NaN             NaN            NaN   \n",
       "2   1/15/2018 5:20:09 AM             1.0           200.0       Promotor   \n",
       "3                    NaN             NaN             NaN            NaN   \n",
       "4                    NaN             NaN             NaN            NaN   \n",
       "\n",
       "   CompositeSATScore  CompositeSATType  \n",
       "0                0.0       Detractor\\r  \n",
       "1                NaN                \\r  \n",
       "2              200.0        Promotor\\r  \n",
       "3                NaN                \\r  \n",
       "4                NaN                \\r  \n",
       "\n",
       "[5 rows x 292 columns]"
      ]
     },
     "execution_count": 4,
     "metadata": {},
     "output_type": "execute_result"
    }
   ],
   "source": [
    "data.head()"
   ]
  },
  {
   "cell_type": "code",
   "execution_count": 5,
   "metadata": {},
   "outputs": [],
   "source": [
    "data=data.drop(['CommunicationCulture',\t'CreatedDate',\t'CreateDateOfFirstSubscription',\t'PurchaseDateOfFirstNonTrialSubscription',\t\n",
    "'CommerceTenantTagsArray','AssignedPlanServiceTypeArray','ConciergeInfoIsConceirge',\t'ConciergeInfoProgramId',\t\n",
    "'CompanyLastDirSyncTime',\t'PasswordSyncTime','CurrentDefaultDomain','SnapshotTime',\t'MSODSTenant_CompanyTags',\t\n",
    "'MSODSTenant_ExtensionAttributes',\t'MSODSTenant_DirSyncEnabled',\t'FirstTicketDate',\t'LastTicketDate',\t'SubscriptionEndDate',\t'SubscriptionStartDate',\t'Percent_Of_Tickets_Bucket',\t\n",
    "'LatestFeedbackDateTime',\t'TenantId2',\t'TenantId',\t'Name',\t'Country',\t'City'],axis=1)\n",
    "\n",
    "data['CompositeSATType']=data['CompositeSATType'].str.split('\\r', expand=True)[0]\n",
    "data.loc[data['LatestSATType'].isnull(), 'LatestSATType'] ='No_SAT'\n",
    "data.loc[data['CompositeSATType']== '', 'CompositeSATType'] ='No_SAT'"
   ]
  },
  {
   "cell_type": "code",
   "execution_count": 9,
   "metadata": {},
   "outputs": [],
   "source": [
    "#In Numeric columns set empty to zero and convert the variable to Numeric\n",
    "Emptyto_Zero=[ 'EXOEnabledUsers',\t'LicensedUsers',\t'LYOEnabledUsers',\t'SPOEnabledUsers',\t'OD4BEnabledUsers',\t'ProPlusEnabledUsers',\t'TotalUsers',\t'EDUSubscriptionsCount',\t\n",
    "'ExchangeSubscriptionsCount',\t'LyncSubscriptionsCount',\t'PaidSubscriptionCount',\t'ProjectSubscriptionsCount',\t'SharePointSubscriptionsCount',\t'TotalSubscriptionCount',\t\n",
    "'TrialSubscriptionCount',\t'VisioSubscriptionsCount',\t'SubscriptionCount',\t'FirstTicketAge',\t'TotalTickets',\t'MinCloseTime',\t'MaxCloseTime',\t'MedCloseTime',\t'DaysToSubEndDate',\n",
    "'DaysTicketOpenAfterSubStart',\t'TicketsFeedRecency',\t'NumberOfTickets_Past7Days',\t'NumberOfTickets_Past28Days',\t'NumberOfTickets_Past90Days',\t'NumberOfTickets_Past180Days',\n",
    "'NumberOfTickets_Past360Days',\t'PercentOfTickets',\t'TotalTickets1Year',\t'Exchange_unable_to_connect_sync_with_exchange',\t'SharePoint_manage_sites_documents_and_lists',\n",
    "'Admin_Get_reports_insights_and_usage_patterns_for_my_Office_365_tenant',\t'Office_Client_Use_Office_apps_including_Mac',\t'Admin_Find_and_signup_for_the_correct_Office_365_plan',\t\n",
    "'Dynamics_CRM_Setup_and_use_Dynamics_CRM_and_Parature_services',\t'Intune_Download_Setup_and_Use_Intune',\t'OneDrive_Setup_OneDrive_and_sync_my_documents',\t'Admin_Sign_in_and_password_issues',\n",
    "'Mobile_Connect_and_configure_mobile_devices',\t'Setup_and_use_Stream',\t'Exchange_Use_calendar_free_busy_and_contacts',\t'Install_setup_and_use_Power_Bi',\t\n",
    "'Commerce_Manage_bills_payments_subscriptions_and_licenses',\t'Exchange_Migrate_my_data_to_Office_365',\t'Office_Client_Download_install_and_activate_Office_apps_including_Mac',\t'Other',\t\n",
    "'Setup_and_use_OneNote',\t'Exchange_Setup_and_manage_mailbox_exchange_online',\t'Setup_and_use_PowerPoint',\t'Exchange_Enable_hybrid_capabilities',\t\n",
    "'Setup_compliance_features_like_Archive_Retention_Litigation_eDiscovery_and_MDM',\t'Admin_Setup_domain_and_DNS_settings_for_Office_365',\t'Exchange_Use_OWA_Outlook_Web_App',\t\n",
    "'Outlook_Setup_and_use_Outlook_including_Mac',\t'Office_Client_Word',\t'Yammer_Setup_and_use_Yammer_services',\t'Office_Client_Excel',\t'Prevent_user_accounts_from_getting_compromised',\t\n",
    "'Send_and_receive_mail_on_time',\t'Admin_Global_Office_365_setup_and_administration_DirSync_ADFS_Global_Exchange_settings',\t'Admin_Manage_my_users_groups_and_resources',\t'Setup_and_use_Project',\t\n",
    "'Skype_Setup_and_use_Skype_services',\t'Keep_mailboxes_free_of_spam_and_viruses',\t'Project_and_Planner_manage_projects_and_plans',\t'Setup_and_use_Delve_Analytics',\t\n",
    "'Teams_Download_Setup_and_Use_Microsoft_Teams',\t'L7TotalUsage',\t'L14TotalUsage',\t'L28TotalUsage',\t'ProjectL7Usage',\t'PublisherL7Usage',\t'OutlookL7Usage',\t'WordL7Usage',\t\n",
    "'VisioL7Usage',\t'OneNoteL7Usage',\t'ExcelL7Usage',\t'AccessL7Usage',\t'LyncL7Usage',\t'PowerPointL7Usage',\t'ProjectL14Usage',\t'PublisherL14Usage',\t'OutlookL14Usage',\t'WordL14Usage',\t\n",
    "'VisioL14Usage',\t'OneNoteL14Usage',\t'ExcelL14Usage',\t'AccessL14Usage',\t'LyncL14Usage',\t'PowerPointL14Usage',\t'ProjectL28Usage',\t'PublisherL28Usage',\t'OutlookL28Usage',\t'WordL28Usage',\t\n",
    "'VisioL28Usage',\t'OneNoteL28Usage',\t'ExcelL28Usage',\t'AccessL28Usage',\t'LyncL28Usage',\t'PowerPointL28Usage',\t'ProjectL7Usage_Percent',\t'PublisherL7Usage_Percent',\t'OutlookL7Usage_Percent',\t\n",
    "'WordL7Usage_Percent',\t'VisioL7Usage_Percent',\t'OneNoteL7Usage_Percent',\t'ExcelL7Usage_Percent',\t'AccessL7Usage_Percent',\t'LyncL7Usage_Percent',\t'PowerPointL7Usage_Percent',\t'ProjectL14Usage_Percent',\t\n",
    "'PublisherL14Usage_Percent',\t'OutlookL14Usage_Percent',\t'WordL14Usage_Percent',\t'VisioL14Usage_Percent',\t'OneNoteL14Usage_Percent',\t'ExcelL14Usage_Percent',\t'AccessL14Usage_Percent',\t\n",
    "'LyncL14Usage_Percent',\t'PowerPointL14Usage_Percent',\t'ProjectL28Usage_Percent',\t'PublisherL28Usage_Percent',\t'OutlookL28Usage_Percent',\t'WordL28Usage_Percent',\t'VisioL28Usage_Percent',\t\n",
    "'OneNoteL28Usage_Percent',\t'ExcelL28Usage_Percent',\t'AccessL28Usage_Percent',\t'LyncL28Usage_Percent',\t'PowerPointL28Usage_Percent',\t'Win10L7Usage',\t'WinOtherL7Usage',\t'MacL7Usage',\t'iOSL7Usage',\t\n",
    "'IPhoneL7Usage',\t'AndroidL7Usage',\t'Win10L14Usage',\t'WinOtherL14Usage',\t'MacL14Usage',\t'iOSL14Usage',\t'IPhoneL14Usage',\t'AndroidL14Usage',\t'Win10L28Usage',\t'WinOtherL28Usage',\t'MacL28Usage',\t\n",
    "'iOSL28Usage',\t'IPhoneL28Usage',\t'AndroidL28Usage',\t'Win10L7Usage_Percent',\t'WinOtherL7Usage_Percent',\t'MacL7Usage_Percent',\t'iOSL7Usage_Percent',\t'IPhoneL7Usage_Percent',\t'AndroidL7Usage_Percent',\t\n",
    "'Win10L14Usage_Percent',\t'WinOtherL14Usage_Percent',\t'MacL14Usage_Percent',\t'iOSL14Usage_Percent',\t'IPhoneL14Usage_Percent',\t'AndroidL14Usage_Percent',\t'Win10L28Usage_Percent',\t'WinOtherL28Usage_Percent',\t\n",
    "'MacL28Usage_Percent',\t'iOSL28Usage_Percent',\t'IPhoneL28Usage_Percent',\t'AndroidL28Usage_Percent',\t'TotalFeedbacks',\t'LatestSATScore',\t'CompositeSATScore','CommerceTenantTagsCount', \n",
    "'AssignedPlanCount','PartnerTenantCount','TotalGroupCount','DomainCount'\n",
    "]"
   ]
  },
  {
   "cell_type": "code",
   "execution_count": 7,
   "metadata": {},
   "outputs": [],
   "source": [
    "for x in Emptyto_Zero:\n",
    "    data.loc[data[x].isnull(), x] =0\n",
    " #In Numeric columns set empty to zero and convert the variable to Numeric"
   ]
  },
  {
   "cell_type": "code",
   "execution_count": 8,
   "metadata": {},
   "outputs": [],
   "source": [
    "#make a list of Categorial variables, set empty value to No_Data and convert string to Cat var\n",
    "StrTo_Cat=['TenantState',\t'TenantType',\t'HasEducation',\t'HasCharity',\t'HasGovernment',\t'HasExchange',\t'HasLync',\t'HasSharePoint',\t'HasProPlus',\t'HasYammer',\t'HasSubscription',\t'HasProject',\t\n",
    "'HasPaid',\t'HasVisio',\t'HasTrial',\t'IsConcierge',\t'DirectoryExtensionsSyncEnabled',\t'DirSyncEnabled',\t'PasswordSyncEnabled',\t'PasswordWriteBackEnabled',\t'IsDonMT',\t'IsViral',\t'IsTest',\t'IsQuickStart',\t\n",
    "'IsFastTrackTenant',\t'HasSKUE3',\t'HasSKUE5',\t'SPOEnvironment',\t'IsRestrictRmsViralSignUp',\t'IsMSODSDeleted',\t'Det',\t'CommunicationLanguage',\t'ConciergeInfoIsManualAdmittance',\t'CPTenant_ChannelName',\t\n",
    "'Age_at_First_Ticket_Bucket',\t'ProjectL7Usage_Percent_Desc',\t'PublisherL7Usage_Percent_Desc',\t'OutlookL7Usage_Percent_Desc',\t'WordL7Usage_Percent_Desc',\t'VisioL7Usage_Percent_Desc',\t\n",
    "'OneNoteL7Usage_Percent_Desc',\t'ExcelL7Usage_Percent_Desc',\t'AccessL7Usage_Percent_Desc',\t'LyncL7Usage_Percent_Desc',\t'PowerPointL7Usage_Percent_Desc',\t'ProjectL14Usage_Percent_Desc',\t\n",
    "'PublisherL14Usage_Percent_Desc',\t'OutlookL14Usage_Percent_Desc',\t'WordL14Usage_Percent_Desc',\t'VisioL14Usage_Percent_Desc',\t'OneNoteL14Usage_Percent_Desc',\t'ExcelL14Usage_Percent_Desc',\t\n",
    "'AccessL14Usage_Percent_Desc',\t'LyncL14Usage_Percent_Desc',\t'PowerPointL14Usage_Percent_Desc',\t'ProjectL28Usage_Percent_Desc',\t'PublisherL28Usage_Percent_Desc',\t'OutlookL28Usage_Percent_Desc',\n",
    "'WordL28Usage_Percent_Desc',\t'VisioL28Usage_Percent_Desc',\t'OneNoteL28Usage_Percent_Desc',\t'ExcelL28Usage_Percent_Desc',\t'AccessL28Usage_Percent_Desc',\t'LyncL28Usage_Percent_Desc',\t\n",
    "'PowerPointL28Usage_Percent_Desc',\t'Win10L7Usage_Percent_Desc',\t'WinOtherL7Usage_Percent_Desc',\t'MacL7Usage_Percent_Desc',\t'iOSL7Usage_Percent_Desc',\t'IPhoneL7Usage_Percent_Desc',\t\n",
    "'AndroidL7Usage_Percent_Desc',\t'Win10L14Usage_Percent_Desc',\t'WinOtherL14Usage_Percent_Desc',\t'MacL14Usage_Percent_Desc',\t'iOSL14Usage_Percent_Desc',\t'IPhoneL14Usage_Percent_Desc',\t\n",
    "'AndroidL14Usage_Percent_Desc',\t'Win10L28Usage_Percent_Desc',\t'WinOtherL28Usage_Percent_Desc',\t'MacL28Usage_Percent_Desc',\t'iOSL28Usage_Percent_Desc',\t'IPhoneL28Usage_Percent_Desc',\t\n",
    "'AndroidL28Usage_Percent_Desc',\t'LatestSATType',\t'CompositeSATType', 'CountryCode','Region','O365TenantReleaseTrack','DefaultDataLocation'\n",
    "]"
   ]
  },
  {
   "cell_type": "code",
   "execution_count": 9,
   "metadata": {},
   "outputs": [
    {
     "name": "stdout",
     "output_type": "stream",
     "text": [
      "TenantState\n",
      "TenantType\n",
      "HasEducation\n",
      "HasCharity\n",
      "HasGovernment\n",
      "HasExchange\n",
      "HasLync\n",
      "HasSharePoint\n",
      "HasProPlus\n",
      "HasYammer\n",
      "HasSubscription\n",
      "HasProject\n",
      "HasPaid\n",
      "HasVisio\n",
      "HasTrial\n",
      "IsConcierge\n",
      "DirectoryExtensionsSyncEnabled\n",
      "DirSyncEnabled\n",
      "PasswordSyncEnabled\n",
      "PasswordWriteBackEnabled\n",
      "IsDonMT\n",
      "IsViral\n",
      "IsTest\n",
      "IsQuickStart\n",
      "IsFastTrackTenant\n",
      "HasSKUE3\n",
      "HasSKUE5\n",
      "SPOEnvironment\n",
      "IsRestrictRmsViralSignUp\n",
      "IsMSODSDeleted\n",
      "Det\n",
      "CommunicationLanguage\n",
      "ConciergeInfoIsManualAdmittance\n",
      "CPTenant_ChannelName\n",
      "Age_at_First_Ticket_Bucket\n",
      "ProjectL7Usage_Percent_Desc\n",
      "PublisherL7Usage_Percent_Desc\n",
      "OutlookL7Usage_Percent_Desc\n",
      "WordL7Usage_Percent_Desc\n",
      "VisioL7Usage_Percent_Desc\n",
      "OneNoteL7Usage_Percent_Desc\n",
      "ExcelL7Usage_Percent_Desc\n",
      "AccessL7Usage_Percent_Desc\n",
      "LyncL7Usage_Percent_Desc\n",
      "PowerPointL7Usage_Percent_Desc\n",
      "ProjectL14Usage_Percent_Desc\n",
      "PublisherL14Usage_Percent_Desc\n",
      "OutlookL14Usage_Percent_Desc\n",
      "WordL14Usage_Percent_Desc\n",
      "VisioL14Usage_Percent_Desc\n",
      "OneNoteL14Usage_Percent_Desc\n",
      "ExcelL14Usage_Percent_Desc\n",
      "AccessL14Usage_Percent_Desc\n",
      "LyncL14Usage_Percent_Desc\n",
      "PowerPointL14Usage_Percent_Desc\n",
      "ProjectL28Usage_Percent_Desc\n",
      "PublisherL28Usage_Percent_Desc\n",
      "OutlookL28Usage_Percent_Desc\n",
      "WordL28Usage_Percent_Desc\n",
      "VisioL28Usage_Percent_Desc\n",
      "OneNoteL28Usage_Percent_Desc\n",
      "ExcelL28Usage_Percent_Desc\n",
      "AccessL28Usage_Percent_Desc\n",
      "LyncL28Usage_Percent_Desc\n",
      "PowerPointL28Usage_Percent_Desc\n",
      "Win10L7Usage_Percent_Desc\n",
      "WinOtherL7Usage_Percent_Desc\n",
      "MacL7Usage_Percent_Desc\n",
      "iOSL7Usage_Percent_Desc\n",
      "IPhoneL7Usage_Percent_Desc\n",
      "AndroidL7Usage_Percent_Desc\n",
      "Win10L14Usage_Percent_Desc\n",
      "WinOtherL14Usage_Percent_Desc\n",
      "MacL14Usage_Percent_Desc\n",
      "iOSL14Usage_Percent_Desc\n",
      "IPhoneL14Usage_Percent_Desc\n",
      "AndroidL14Usage_Percent_Desc\n",
      "Win10L28Usage_Percent_Desc\n",
      "WinOtherL28Usage_Percent_Desc\n",
      "MacL28Usage_Percent_Desc\n",
      "iOSL28Usage_Percent_Desc\n",
      "IPhoneL28Usage_Percent_Desc\n",
      "AndroidL28Usage_Percent_Desc\n",
      "LatestSATType\n",
      "CompositeSATType\n",
      "CountryCode\n",
      "Region\n",
      "O365TenantReleaseTrack\n",
      "DefaultDataLocation\n"
     ]
    }
   ],
   "source": [
    "for x in StrTo_Cat:\n",
    "    print(x)\n",
    "    data.loc[data[x].isnull(), x] ='No_Data'\n",
    "    #data[x]= data[x].astype('category')\n",
    "    #pd.data[StrTo_Cat]= data[StrTo_Cat].astype('category')\n",
    "\n",
    "#data['CompositeSATType']=data['CompositeSATType'].str.split('\\r', expand=True)\n",
    "data.loc[data['CompositeSATType'].isnull(), 'CompositeSATType'] ='No_SAT'\n",
    " \n",
    "data=data.loc[data['CPTenant_ChannelName'].str.contains('DIRECT') | data['CPTenant_ChannelName'].str.contains('VL')|data['CPTenant_ChannelName'].str.contains('GODADDY.COM, LLC_EE83E790-62B7-4CCB-A1B6-26CAC3C77A8C')| data['CPTenant_ChannelName'].str.contains('RESELLER') \n",
    " \n",
    "             ]"
   ]
  },
  {
   "cell_type": "code",
   "execution_count": 10,
   "metadata": {},
   "outputs": [
    {
     "data": {
      "text/plain": [
       "[No_Data, NAM, EUR, APC, JPN, AUS, GBR, IND]\n",
       "Categories (8, object): [No_Data, NAM, EUR, APC, JPN, AUS, GBR, IND]"
      ]
     },
     "execution_count": 10,
     "metadata": {},
     "output_type": "execute_result"
    }
   ],
   "source": [
    "data.Region.unique()"
   ]
  },
  {
   "cell_type": "code",
   "execution_count": 11,
   "metadata": {},
   "outputs": [
    {
     "data": {
      "text/plain": [
       "No_Data    325912\n",
       "NAM            67\n",
       "EUR            41\n",
       "JPN             6\n",
       "APC             6\n",
       "IND             2\n",
       "GBR             1\n",
       "AUS             1\n",
       "Name: DefaultDataLocation, dtype: int64"
      ]
     },
     "execution_count": 11,
     "metadata": {},
     "output_type": "execute_result"
    }
   ],
   "source": [
    "data.DefaultDataLocation.value_counts(dropna=False)"
   ]
  },
  {
   "cell_type": "code",
   "execution_count": 12,
   "metadata": {},
   "outputs": [
    {
     "data": {
      "text/plain": [
       "No_Data          272656\n",
       "FirstRelease      29225\n",
       "StagedRollout     24155\n",
       "Name: O365TenantReleaseTrack, dtype: int64"
      ]
     },
     "execution_count": 12,
     "metadata": {},
     "output_type": "execute_result"
    }
   ],
   "source": [
    "data.O365TenantReleaseTrack.value_counts(dropna=False)"
   ]
  },
  {
   "cell_type": "code",
   "execution_count": 13,
   "metadata": {},
   "outputs": [
    {
     "data": {
      "text/plain": [
       "No_SAT       157256\n",
       "Promotor      71447\n",
       "Undecided     42340\n",
       "Passive       29930\n",
       "Detractor     25063\n",
       "Name: CompositeSATType, dtype: int64"
      ]
     },
     "execution_count": 13,
     "metadata": {},
     "output_type": "execute_result"
    }
   ],
   "source": [
    "data.CompositeSATType.value_counts(dropna=False)"
   ]
  },
  {
   "cell_type": "code",
   "execution_count": 10,
   "metadata": {},
   "outputs": [
    {
     "name": "stdout",
     "output_type": "stream",
     "text": [
      "   Det CountryCode                      Region CommunicationLanguage  \\\n",
      "0    0          DE                     Germany                    EN   \n",
      "1    1          DE                     Germany                    en   \n",
      "2    0          CO                       Latam                    es   \n",
      "3    0          CZ  Central and Eastern Europe                    cs   \n",
      "4    0          GB                          UK                    en   \n",
      "\n",
      "  TenantState     TenantType  EXOEnabledUsers  LicensedUsers  LYOEnabledUsers  \\\n",
      "0      Active  RegularTenant             42.0           42.0             11.0   \n",
      "1      Active  RegularTenant              0.0            1.0              0.0   \n",
      "2      Active  RegularTenant             99.0          100.0             98.0   \n",
      "3      Active  RegularTenant              1.0            1.0              0.0   \n",
      "4      Active  RegularTenant             18.0           20.0             18.0   \n",
      "\n",
      "   SPOEnabledUsers        ...         WinOtherL28Usage_Percent_Desc  \\\n",
      "0             12.0        ...                         75Pct_or_more   \n",
      "1              1.0        ...                              NOT_USED   \n",
      "2             98.0        ...                       Less_than_25Pct   \n",
      "3              0.0        ...                                   NaN   \n",
      "4             20.0        ...                              25_50Pct   \n",
      "\n",
      "   MacL28Usage_Percent_Desc  iOSL28Usage_Percent_Desc  \\\n",
      "0                  NOT_USED                  NOT_USED   \n",
      "1             75Pct_or_more                  NOT_USED   \n",
      "2           Less_than_25Pct                  NOT_USED   \n",
      "3                       NaN                       NaN   \n",
      "4                  NOT_USED                  NOT_USED   \n",
      "\n",
      "   IPhoneL28Usage_Percent_Desc  AndroidL28Usage_Percent_Desc  TotalFeedbacks  \\\n",
      "0                     NOT_USED               Less_than_25Pct             1.0   \n",
      "1                     NOT_USED                      NOT_USED             0.0   \n",
      "2                     NOT_USED               Less_than_25Pct             1.0   \n",
      "3                          NaN                           NaN             0.0   \n",
      "4                     NOT_USED                      NOT_USED             0.0   \n",
      "\n",
      "   LatestSATScore  LatestSATType  CompositeSATScore  CompositeSATType  \n",
      "0             0.0      Detractor                0.0         Detractor  \n",
      "1             0.0         No_SAT                0.0            No_SAT  \n",
      "2           200.0       Promotor              200.0          Promotor  \n",
      "3             0.0         No_SAT                0.0            No_SAT  \n",
      "4             0.0         No_SAT                0.0            No_SAT  \n",
      "\n",
      "[5 rows x 266 columns]\n"
     ]
    }
   ],
   "source": [
    "data['Det']= data['Det'].astype(int)\n",
    "#data['Det']= data['Det'].astype('category') \n",
    "print(data.head())\n"
   ]
  },
  {
   "cell_type": "markdown",
   "metadata": {},
   "source": [
    "## Transforming Variables"
   ]
  },
  {
   "cell_type": "code",
   "execution_count": 11,
   "metadata": {},
   "outputs": [
    {
     "name": "stdout",
     "output_type": "stream",
     "text": [
      "(330098, 767)\n"
     ]
    }
   ],
   "source": [
    "data = pd.DataFrame(data)\n",
    "for x in StrTo_Cat:\n",
    "        data = pd.concat([data, pd.get_dummies(data[x], prefix=x, prefix_sep='_',)], axis = 1)\n",
    "        #drop the original column\n",
    "        del data[x]\n",
    "\n",
    "#data.head()        \n",
    "print(data.shape)"
   ]
  },
  {
   "cell_type": "code",
   "execution_count": 12,
   "metadata": {},
   "outputs": [],
   "source": [
    "for x in Emptyto_Zero:\n",
    "    data.loc[data[x].isnull(), x] =0\n",
    "    data[x]=pd.to_numeric(data[x])\n",
    " #In Numeric columns set empty to zero and convert the variable to Numeric"
   ]
  },
  {
   "cell_type": "code",
   "execution_count": 13,
   "metadata": {},
   "outputs": [
    {
     "name": "stderr",
     "output_type": "stream",
     "text": [
      "C:\\Users\\v-Jaand\\AppData\\Local\\Continuum\\anaconda3\\lib\\site-packages\\sklearn\\utils\\validation.py:595: DataConversionWarning: Data with input dtype int64 was converted to float64 by MinMaxScaler.\n",
      "  warnings.warn(msg, DataConversionWarning)\n",
      "C:\\Users\\v-Jaand\\AppData\\Local\\Continuum\\anaconda3\\lib\\site-packages\\sklearn\\utils\\validation.py:595: DataConversionWarning: Data with input dtype int64 was converted to float64 by MinMaxScaler.\n",
      "  warnings.warn(msg, DataConversionWarning)\n",
      "C:\\Users\\v-Jaand\\AppData\\Local\\Continuum\\anaconda3\\lib\\site-packages\\sklearn\\utils\\validation.py:595: DataConversionWarning: Data with input dtype int64 was converted to float64 by MinMaxScaler.\n",
      "  warnings.warn(msg, DataConversionWarning)\n",
      "C:\\Users\\v-Jaand\\AppData\\Local\\Continuum\\anaconda3\\lib\\site-packages\\sklearn\\utils\\validation.py:595: DataConversionWarning: Data with input dtype int64 was converted to float64 by MinMaxScaler.\n",
      "  warnings.warn(msg, DataConversionWarning)\n",
      "C:\\Users\\v-Jaand\\AppData\\Local\\Continuum\\anaconda3\\lib\\site-packages\\sklearn\\utils\\validation.py:595: DataConversionWarning: Data with input dtype int64 was converted to float64 by MinMaxScaler.\n",
      "  warnings.warn(msg, DataConversionWarning)\n",
      "C:\\Users\\v-Jaand\\AppData\\Local\\Continuum\\anaconda3\\lib\\site-packages\\sklearn\\utils\\validation.py:595: DataConversionWarning: Data with input dtype int64 was converted to float64 by MinMaxScaler.\n",
      "  warnings.warn(msg, DataConversionWarning)\n",
      "C:\\Users\\v-Jaand\\AppData\\Local\\Continuum\\anaconda3\\lib\\site-packages\\sklearn\\utils\\validation.py:595: DataConversionWarning: Data with input dtype int64 was converted to float64 by MinMaxScaler.\n",
      "  warnings.warn(msg, DataConversionWarning)\n",
      "C:\\Users\\v-Jaand\\AppData\\Local\\Continuum\\anaconda3\\lib\\site-packages\\sklearn\\utils\\validation.py:595: DataConversionWarning: Data with input dtype int64 was converted to float64 by MinMaxScaler.\n",
      "  warnings.warn(msg, DataConversionWarning)\n",
      "C:\\Users\\v-Jaand\\AppData\\Local\\Continuum\\anaconda3\\lib\\site-packages\\sklearn\\utils\\validation.py:595: DataConversionWarning: Data with input dtype int64 was converted to float64 by MinMaxScaler.\n",
      "  warnings.warn(msg, DataConversionWarning)\n",
      "C:\\Users\\v-Jaand\\AppData\\Local\\Continuum\\anaconda3\\lib\\site-packages\\sklearn\\utils\\validation.py:595: DataConversionWarning: Data with input dtype int64 was converted to float64 by MinMaxScaler.\n",
      "  warnings.warn(msg, DataConversionWarning)\n",
      "C:\\Users\\v-Jaand\\AppData\\Local\\Continuum\\anaconda3\\lib\\site-packages\\sklearn\\utils\\validation.py:595: DataConversionWarning: Data with input dtype int64 was converted to float64 by MinMaxScaler.\n",
      "  warnings.warn(msg, DataConversionWarning)\n",
      "C:\\Users\\v-Jaand\\AppData\\Local\\Continuum\\anaconda3\\lib\\site-packages\\sklearn\\utils\\validation.py:595: DataConversionWarning: Data with input dtype int64 was converted to float64 by MinMaxScaler.\n",
      "  warnings.warn(msg, DataConversionWarning)\n",
      "C:\\Users\\v-Jaand\\AppData\\Local\\Continuum\\anaconda3\\lib\\site-packages\\sklearn\\utils\\validation.py:595: DataConversionWarning: Data with input dtype int64 was converted to float64 by MinMaxScaler.\n",
      "  warnings.warn(msg, DataConversionWarning)\n",
      "C:\\Users\\v-Jaand\\AppData\\Local\\Continuum\\anaconda3\\lib\\site-packages\\sklearn\\utils\\validation.py:595: DataConversionWarning: Data with input dtype int64 was converted to float64 by MinMaxScaler.\n",
      "  warnings.warn(msg, DataConversionWarning)\n",
      "C:\\Users\\v-Jaand\\AppData\\Local\\Continuum\\anaconda3\\lib\\site-packages\\sklearn\\utils\\validation.py:595: DataConversionWarning: Data with input dtype int64 was converted to float64 by MinMaxScaler.\n",
      "  warnings.warn(msg, DataConversionWarning)\n",
      "C:\\Users\\v-Jaand\\AppData\\Local\\Continuum\\anaconda3\\lib\\site-packages\\sklearn\\utils\\validation.py:595: DataConversionWarning: Data with input dtype int64 was converted to float64 by MinMaxScaler.\n",
      "  warnings.warn(msg, DataConversionWarning)\n",
      "C:\\Users\\v-Jaand\\AppData\\Local\\Continuum\\anaconda3\\lib\\site-packages\\sklearn\\utils\\validation.py:595: DataConversionWarning: Data with input dtype int64 was converted to float64 by MinMaxScaler.\n",
      "  warnings.warn(msg, DataConversionWarning)\n",
      "C:\\Users\\v-Jaand\\AppData\\Local\\Continuum\\anaconda3\\lib\\site-packages\\sklearn\\utils\\validation.py:595: DataConversionWarning: Data with input dtype int64 was converted to float64 by MinMaxScaler.\n",
      "  warnings.warn(msg, DataConversionWarning)\n",
      "C:\\Users\\v-Jaand\\AppData\\Local\\Continuum\\anaconda3\\lib\\site-packages\\sklearn\\utils\\validation.py:595: DataConversionWarning: Data with input dtype int64 was converted to float64 by MinMaxScaler.\n",
      "  warnings.warn(msg, DataConversionWarning)\n"
     ]
    },
    {
     "name": "stdout",
     "output_type": "stream",
     "text": [
      "(330098, 767)\n"
     ]
    },
    {
     "name": "stderr",
     "output_type": "stream",
     "text": [
      "C:\\Users\\v-Jaand\\AppData\\Local\\Continuum\\anaconda3\\lib\\site-packages\\sklearn\\utils\\validation.py:595: DataConversionWarning: Data with input dtype int64 was converted to float64 by MinMaxScaler.\n",
      "  warnings.warn(msg, DataConversionWarning)\n"
     ]
    }
   ],
   "source": [
    "#following the log + Min/Max transformation\n",
    "\n",
    "#following the log transformation\n",
    "df_log = pd.DataFrame(data)\n",
    "for c in Emptyto_Zero:\n",
    "    df_log[c]=df_log[c].apply(lambda x:0 if x <= 0 else math.log(x))\n",
    "    \n",
    "#Min MAx after taking log\n",
    "\n",
    "df_logMM = pd.DataFrame(df_log)\n",
    "\n",
    "scaler = preprocessing.MinMaxScaler()\n",
    "for c in Emptyto_Zero:\n",
    "  #  print(c)\n",
    "    df_logMM[c] = scaler.fit_transform(df_logMM[c].values.reshape(-1, 1))\n",
    "   \n",
    "#data.head()        \n",
    "print(df_logMM.shape)"
   ]
  },
  {
   "cell_type": "code",
   "execution_count": 18,
   "metadata": {},
   "outputs": [
    {
     "name": "stdout",
     "output_type": "stream",
     "text": [
      "Writing to csv...\n"
     ]
    }
   ],
   "source": [
    " print('Writing to csv...')\n",
    "df_logMM.to_csv(\"training_data.csv\",index=False)"
   ]
  },
  {
   "cell_type": "code",
   "execution_count": 6,
   "metadata": {},
   "outputs": [],
   "source": [
    "#SHORTCUT\n",
    "df_logMM = pd.read_csv('training_data.csv')"
   ]
  },
  {
   "cell_type": "markdown",
   "metadata": {},
   "source": [
    "## US vs Non-US"
   ]
  },
  {
   "cell_type": "code",
   "execution_count": 7,
   "metadata": {},
   "outputs": [],
   "source": [
    "from sklearn.model_selection import KFold, StratifiedKFold, StratifiedShuffleSplit, train_test_split\n",
    "from sklearn.model_selection import cross_val_score, GridSearchCV, RandomizedSearchCV\n",
    "from sklearn.feature_selection import RFE\n",
    "from sklearn.preprocessing import LabelEncoder\n",
    "from sklearn.pipeline import Pipeline\n",
    "from sklearn.utils.fixes import signature\n",
    "from sklearn.metrics import confusion_matrix, f1_score, average_precision_score, precision_recall_curve\n",
    "from sklearn.linear_model import LogisticRegression\n",
    "from sklearn.ensemble import RandomForestClassifier, ExtraTreesClassifier\n",
    "from sklearn.naive_bayes import GaussianNB, ComplementNB, BernoulliNB\n",
    "from sklearn.neighbors import KNeighborsClassifier\n",
    "from sklearn.svm import SVC, LinearSVC, OneClassSVM\n",
    "from sklearn.neural_network import BernoulliRBM, MLPClassifier\n",
    "from sklearn.gaussian_process import GaussianProcessClassifier\n",
    "import xgboost as xgb"
   ]
  },
  {
   "cell_type": "code",
   "execution_count": 12,
   "metadata": {},
   "outputs": [
    {
     "data": {
      "text/plain": [
       "array([ 0.,  1., nan])"
      ]
     },
     "execution_count": 12,
     "metadata": {},
     "output_type": "execute_result"
    }
   ],
   "source": [
    "data."
   ]
  },
  {
   "cell_type": "code",
   "execution_count": 26,
   "metadata": {},
   "outputs": [],
   "source": [
    "data1 = df_logMM[df_logMM['Region_United States']==1]\n",
    "data0 = df_logMM[df_logMM['Region_United States']==0]"
   ]
  },
  {
   "cell_type": "code",
   "execution_count": 34,
   "metadata": {},
   "outputs": [],
   "source": [
    "def pr(model,y,p,threshold, summary = False):\n",
    "    y_prob = model.predict_proba(p)[:,1]\n",
    "    y_pred = np.array(y_prob) > threshold\n",
    "    y_true = np.array(y)\n",
    "    tn, fp, fn, tp = confusion_matrix(y_true,y_pred).ravel()\n",
    "    tpr = round(tp/(tp+fn),2)\n",
    "    fpr = round(fp/(tn+fp),2)\n",
    "    acc = round((tn+tp)/len(y_true),2)\n",
    "    prec = round(tp/(tp+fp),2)\n",
    "    rec = round(tp/(tp+fn),2)\n",
    "    rate = round((tp+fp)/len(y_true),3)\n",
    "    f1 = round(2*(prec*rec/(prec+rec)),2)\n",
    "    summary_dict = {\"true_positive\":tpr,\n",
    "                   \"false_positive\":fpr,\n",
    "                   \"accuracy\":acc,\n",
    "                   \"precision\":prec,\n",
    "                    \"recall\": rec,\n",
    "                   \"classification_rate\":rate,\n",
    "                   \"f1\":f1}\n",
    "    if summary == True:\n",
    "        return summary_dict\n",
    "    else:\n",
    "        return tpr, fpr, acc, prec, rec, rate, f1"
   ]
  },
  {
   "cell_type": "code",
   "execution_count": 32,
   "metadata": {},
   "outputs": [],
   "source": [
    "def make_model(df,model):\n",
    "    '''baseline model with dataset and classification model of choice'''\n",
    "    y = df.Det_1\n",
    "    X=df.drop('Det_0',  axis=1)\n",
    "    X=X.drop('Det_1',  axis=1)\n",
    "    X_train, X_test, Y_train, Y_test = train_test_split(X, y, test_size=0.1)\n",
    "    model.fit(X_train, Y_train)\n",
    "    new_pred_class = model.predict(X_test)\n",
    "    #Pdata = pd.read_csv(\"/data/DetractorPrediction/Deta1_pred.csv\",index_col=None)\n",
    "    #new_pred_class = logreg.predict(Pdata)\n",
    "\n",
    "    columns_new = ['Predicted']\n",
    "    pred=pd.DataFrame(new_pred_class, columns=columns_new)\n",
    "\n",
    "    Check= pd.concat([pd.DataFrame(Y_test).reset_index(), pred], axis = 1)\n",
    "    #pdf= Predoutput.pred.value_counts()\n",
    "    #print(pdf)\n",
    "    #Check=Log_MM_Output\n",
    "    Log_MM_Output=pd.crosstab(Check.Det_1, Check.Predicted)\n",
    "    print(Log_MM_Output)\n",
    "    print(pr(model,Y_test,X_test,0.5,summary=True))"
   ]
  },
  {
   "cell_type": "code",
   "execution_count": 35,
   "metadata": {},
   "outputs": [
    {
     "name": "stderr",
     "output_type": "stream",
     "text": [
      "C:\\Users\\v-Jaand\\AppData\\Local\\Continuum\\anaconda3\\lib\\site-packages\\sklearn\\linear_model\\logistic.py:433: FutureWarning: Default solver will be changed to 'lbfgs' in 0.22. Specify a solver to silence this warning.\n",
      "  FutureWarning)\n"
     ]
    },
    {
     "name": "stdout",
     "output_type": "stream",
     "text": [
      "Predicted     0   1\n",
      "Det_1              \n",
      "0          9539  80\n",
      "1          1982  91\n",
      "{'true_positive': 0.04, 'false_positive': 0.01, 'accuracy': 0.82, 'precision': 0.53, 'recall': 0.04, 'classification_rate': 0.015, 'f1': 0.07}\n",
      "None\n"
     ]
    },
    {
     "name": "stderr",
     "output_type": "stream",
     "text": [
      "C:\\Users\\v-Jaand\\AppData\\Local\\Continuum\\anaconda3\\lib\\site-packages\\sklearn\\linear_model\\logistic.py:433: FutureWarning: Default solver will be changed to 'lbfgs' in 0.22. Specify a solver to silence this warning.\n",
      "  FutureWarning)\n"
     ]
    },
    {
     "name": "stdout",
     "output_type": "stream",
     "text": [
      "Predicted      0    1\n",
      "Det_1                \n",
      "0          17916  166\n",
      "1           3064  173\n",
      "{'true_positive': 0.05, 'false_positive': 0.01, 'accuracy': 0.85, 'precision': 0.51, 'recall': 0.05, 'classification_rate': 0.016, 'f1': 0.09}\n",
      "None\n"
     ]
    }
   ],
   "source": [
    "print('US Model: ',make_model(data1,LogisticRegression()))\n",
    "print('Non-US Model: ',make_model(data0,LogisticRegression()))"
   ]
  },
  {
   "cell_type": "code",
   "execution_count": 36,
   "metadata": {},
   "outputs": [
    {
     "name": "stdout",
     "output_type": "stream",
     "text": [
      "Predicted     0    1\n",
      "Det_1               \n",
      "0          9616   81\n",
      "1          1868  127\n",
      "{'true_positive': 0.06, 'false_positive': 0.01, 'accuracy': 0.83, 'precision': 0.61, 'recall': 0.06, 'classification_rate': 0.018, 'f1': 0.11}\n",
      "US Model:  None\n",
      "Predicted      0    1\n",
      "Det_1                \n",
      "0          17943  115\n",
      "1           3107  154\n",
      "{'true_positive': 0.05, 'false_positive': 0.01, 'accuracy': 0.85, 'precision': 0.57, 'recall': 0.05, 'classification_rate': 0.013, 'f1': 0.09}\n",
      "Non-US Model:  None\n"
     ]
    }
   ],
   "source": [
    "print('US Model: ',make_model(data1,xgb.XGBClassifier(random_state=0, n_jobs=-1)))\n",
    "print('Non-US Model: ',make_model(data0,xgb.XGBClassifier(random_state=0, n_jobs=-1)))"
   ]
  },
  {
   "cell_type": "code",
   "execution_count": 37,
   "metadata": {},
   "outputs": [
    {
     "name": "stdout",
     "output_type": "stream",
     "text": [
      "Predicted     0     1\n",
      "Det_1                \n",
      "0          5368  4327\n",
      "1           683  1314\n",
      "{'true_positive': 0.66, 'false_positive': 0.45, 'accuracy': 0.57, 'precision': 0.23, 'recall': 0.66, 'classification_rate': 0.482, 'f1': 0.34}\n",
      "US Model:  None\n",
      "Predicted     0     1\n",
      "Det_1                \n",
      "0          9529  8378\n",
      "1          1123  2289\n",
      "{'true_positive': 0.67, 'false_positive': 0.47, 'accuracy': 0.55, 'precision': 0.21, 'recall': 0.67, 'classification_rate': 0.5, 'f1': 0.32}\n",
      "Non-US Model:  None\n"
     ]
    }
   ],
   "source": [
    "print('US Model: ',make_model(data1,ComplementNB()))\n",
    "print('Non-US Model: ',make_model(data0,ComplementNB()))"
   ]
  }
 ],
 "metadata": {
  "kernelspec": {
   "display_name": "Python 3",
   "language": "python",
   "name": "python3"
  },
  "language_info": {
   "codemirror_mode": {
    "name": "ipython",
    "version": 3
   },
   "file_extension": ".py",
   "mimetype": "text/x-python",
   "name": "python",
   "nbconvert_exporter": "python",
   "pygments_lexer": "ipython3",
   "version": "3.7.0"
  }
 },
 "nbformat": 4,
 "nbformat_minor": 2
}
